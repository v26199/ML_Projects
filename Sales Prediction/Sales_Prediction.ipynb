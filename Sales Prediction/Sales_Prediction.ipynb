{
  "metadata": {
    "kernelspec": {
      "display_name": "Python 3",
      "language": "python",
      "name": "python3"
    },
    "language_info": {
      "name": "python",
      "version": "3.10.12",
      "mimetype": "text/x-python",
      "codemirror_mode": {
        "name": "ipython",
        "version": 3
      },
      "pygments_lexer": "ipython3",
      "nbconvert_exporter": "python",
      "file_extension": ".py"
    },
    "kaggle": {
      "accelerator": "none",
      "dataSources": [
        {
          "sourceId": 14084,
          "sourceType": "datasetVersion",
          "datasetId": 9961
        }
      ],
      "dockerImageVersionId": 30626,
      "isInternetEnabled": true,
      "language": "python",
      "sourceType": "notebook",
      "isGpuEnabled": false
    },
    "colab": {
      "provenance": []
    }
  },
  "nbformat_minor": 0,
  "nbformat": 4,
  "cells": [
    {
      "cell_type": "markdown",
      "source": [
        "# Sales Prediction\n",
        "\n"
      ],
      "metadata": {
        "id": "fMIJ80uTcq1R"
      }
    },
    {
      "cell_type": "code",
      "source": [
        "import pandas as pd\n",
        "import numpy as np\n",
        "import matplotlib.pyplot as plt\n",
        "import seaborn as sns\n",
        "\n",
        "from sklearn.preprocessing import StandardScaler\n",
        "from sklearn.preprocessing import LabelEncoder\n",
        "\n",
        "from sklearn.model_selection import train_test_split\n",
        "from xgboost import XGBRegressor\n",
        "from sklearn.ensemble import RandomForestRegressor\n",
        "from sklearn.ensemble import GradientBoostingRegressor\n",
        "from sklearn.svm import SVR\n",
        "from lightgbm import LGBMRegressor\n",
        "\n",
        "from sklearn import metrics\n",
        "\n",
        "from warnings import filterwarnings\n",
        "filterwarnings('ignore')"
      ],
      "metadata": {
        "execution": {
          "iopub.status.busy": "2024-01-10T02:49:55.679009Z",
          "iopub.execute_input": "2024-01-10T02:49:55.679637Z",
          "iopub.status.idle": "2024-01-10T02:49:59.395589Z",
          "shell.execute_reply.started": "2024-01-10T02:49:55.679602Z",
          "shell.execute_reply": "2024-01-10T02:49:59.394399Z"
        },
        "trusted": true,
        "id": "y2EFkqorcq1S"
      },
      "execution_count": null,
      "outputs": []
    },
    {
      "cell_type": "markdown",
      "source": [
        "### Load data and analyse it."
      ],
      "metadata": {
        "id": "VWR_4tNicq1S"
      }
    },
    {
      "cell_type": "code",
      "source": [
        "#Read the data\n",
        "df_train = pd.read_csv('/data/Train.csv')"
      ],
      "metadata": {
        "execution": {
          "iopub.status.busy": "2024-01-10T02:50:17.44484Z",
          "iopub.execute_input": "2024-01-10T02:50:17.445222Z",
          "iopub.status.idle": "2024-01-10T02:50:17.485831Z",
          "shell.execute_reply.started": "2024-01-10T02:50:17.445191Z",
          "shell.execute_reply": "2024-01-10T02:50:17.485155Z"
        },
        "trusted": true,
        "id": "Gx_HNcVxcq1S"
      },
      "execution_count": null,
      "outputs": []
    },
    {
      "cell_type": "code",
      "source": [
        "#See first 10 rows\n",
        "df_train.head(10)"
      ],
      "metadata": {
        "execution": {
          "iopub.status.busy": "2024-01-10T02:50:18.113537Z",
          "iopub.execute_input": "2024-01-10T02:50:18.114154Z",
          "iopub.status.idle": "2024-01-10T02:50:18.142859Z",
          "shell.execute_reply.started": "2024-01-10T02:50:18.114122Z",
          "shell.execute_reply": "2024-01-10T02:50:18.141682Z"
        },
        "trusted": true,
        "id": "syast0ORcq1S"
      },
      "execution_count": null,
      "outputs": []
    },
    {
      "cell_type": "code",
      "source": [
        "#print number of rows and columns separately\n",
        "\n",
        "print(\"Number of Rows:\",df_train.shape[0])\n",
        "print(\"Number of Features:\",df_train.shape[1])\n"
      ],
      "metadata": {
        "execution": {
          "iopub.status.busy": "2024-01-10T02:50:22.966998Z",
          "iopub.execute_input": "2024-01-10T02:50:22.967333Z",
          "iopub.status.idle": "2024-01-10T02:50:22.973458Z",
          "shell.execute_reply.started": "2024-01-10T02:50:22.967309Z",
          "shell.execute_reply": "2024-01-10T02:50:22.972325Z"
        },
        "trusted": true,
        "id": "8tifG4Mmcq1S"
      },
      "execution_count": null,
      "outputs": []
    },
    {
      "cell_type": "code",
      "source": [
        "#see dataset information\n",
        "df_train.info()"
      ],
      "metadata": {
        "execution": {
          "iopub.status.busy": "2024-01-10T02:50:23.387634Z",
          "iopub.execute_input": "2024-01-10T02:50:23.388188Z",
          "iopub.status.idle": "2024-01-10T02:50:23.414813Z",
          "shell.execute_reply.started": "2024-01-10T02:50:23.388162Z",
          "shell.execute_reply": "2024-01-10T02:50:23.413508Z"
        },
        "trusted": true,
        "id": "JA4vLdSkcq1S"
      },
      "execution_count": null,
      "outputs": []
    },
    {
      "cell_type": "markdown",
      "source": [
        "**Numerical Features:**\n",
        "- Item_Weight\n",
        "- Item_Visibility\n",
        "- Item_MRP\n",
        "- Outlet_Establishment_Year\n",
        "- Item_Outlet_Sales\n",
        "\n",
        "-------------------------------------------------------------------------------------\n",
        "\n",
        "**Categorical Features:**\n",
        "- Item_Identifier\n",
        "- Item_Fat_Content\n",
        "- Item_Type\n",
        "- Outlet_Identifier\n",
        "- Outlet_Size\n",
        "- Outlet_Location_Type\n",
        "- Outlet_Type\n",
        "\n",
        "-------------------------------------------------------------------------------------\n",
        "**Columns that have null values:**\n",
        "- Item_Weight\n",
        "- Outlet_Size"
      ],
      "metadata": {
        "id": "cZPil1vQcq1T"
      }
    },
    {
      "cell_type": "code",
      "source": [
        "#Check for missing values\n",
        "df_train.isnull().sum()"
      ],
      "metadata": {
        "execution": {
          "iopub.status.busy": "2024-01-10T02:50:24.641754Z",
          "iopub.execute_input": "2024-01-10T02:50:24.64286Z",
          "iopub.status.idle": "2024-01-10T02:50:24.652327Z",
          "shell.execute_reply.started": "2024-01-10T02:50:24.642811Z",
          "shell.execute_reply": "2024-01-10T02:50:24.651318Z"
        },
        "trusted": true,
        "id": "-6qcK8pKcq1T"
      },
      "execution_count": null,
      "outputs": []
    },
    {
      "cell_type": "markdown",
      "source": [
        "\n",
        "\n",
        "### Mean Method to handle Missing Values in Item_Weight"
      ],
      "metadata": {
        "id": "0Hx6d_Hacq1T"
      }
    },
    {
      "cell_type": "code",
      "source": [
        "#Calculate Mean of Item_Weight column\n",
        "df_train['Item_Weight'].mean()"
      ],
      "metadata": {
        "execution": {
          "iopub.status.busy": "2024-01-10T02:50:27.722021Z",
          "iopub.execute_input": "2024-01-10T02:50:27.723095Z",
          "iopub.status.idle": "2024-01-10T02:50:27.729247Z",
          "shell.execute_reply.started": "2024-01-10T02:50:27.723048Z",
          "shell.execute_reply": "2024-01-10T02:50:27.728346Z"
        },
        "trusted": true,
        "id": "tF8aMO8ncq1T"
      },
      "execution_count": null,
      "outputs": []
    },
    {
      "cell_type": "code",
      "source": [
        "#Fill missing values in Item_Weight column with mean\n",
        "df_train['Item_Weight'].fillna(df_train['Item_Weight'].mean(),inplace=True)"
      ],
      "metadata": {
        "execution": {
          "iopub.status.busy": "2024-01-10T02:50:28.392026Z",
          "iopub.execute_input": "2024-01-10T02:50:28.393216Z",
          "iopub.status.idle": "2024-01-10T02:50:28.400135Z",
          "shell.execute_reply.started": "2024-01-10T02:50:28.393163Z",
          "shell.execute_reply": "2024-01-10T02:50:28.399204Z"
        },
        "trusted": true,
        "id": "FgEr1T9-cq1T"
      },
      "execution_count": null,
      "outputs": []
    },
    {
      "cell_type": "code",
      "source": [
        "#Check for missing values\n",
        "df_train.isnull().sum()"
      ],
      "metadata": {
        "execution": {
          "iopub.status.busy": "2024-01-10T02:50:28.896044Z",
          "iopub.execute_input": "2024-01-10T02:50:28.896402Z",
          "iopub.status.idle": "2024-01-10T02:50:28.906956Z",
          "shell.execute_reply.started": "2024-01-10T02:50:28.896373Z",
          "shell.execute_reply": "2024-01-10T02:50:28.905227Z"
        },
        "trusted": true,
        "id": "KXwFXTKvcq1T"
      },
      "execution_count": null,
      "outputs": []
    },
    {
      "cell_type": "markdown",
      "source": [
        "### Mode Method to handle Missing Values in Outlet_Size"
      ],
      "metadata": {
        "id": "DQPwOQyJcq1T"
      }
    },
    {
      "cell_type": "code",
      "source": [
        "df_train['Outlet_Size'].value_counts()"
      ],
      "metadata": {
        "execution": {
          "iopub.status.busy": "2024-01-10T02:50:31.837973Z",
          "iopub.execute_input": "2024-01-10T02:50:31.838311Z",
          "iopub.status.idle": "2024-01-10T02:50:31.846877Z",
          "shell.execute_reply.started": "2024-01-10T02:50:31.838286Z",
          "shell.execute_reply": "2024-01-10T02:50:31.845604Z"
        },
        "trusted": true,
        "id": "6NBRnSBRcq1T"
      },
      "execution_count": null,
      "outputs": []
    },
    {
      "cell_type": "code",
      "source": [
        "#Calculate mode of Outlet_Size column for each Outlet_Type in Outlet_Size\n",
        "df_train.groupby('Outlet_Type')['Outlet_Size'].agg(pd.Series.mode)"
      ],
      "metadata": {
        "execution": {
          "iopub.status.busy": "2024-01-10T02:50:32.43402Z",
          "iopub.execute_input": "2024-01-10T02:50:32.43439Z",
          "iopub.status.idle": "2024-01-10T02:50:32.451167Z",
          "shell.execute_reply.started": "2024-01-10T02:50:32.434363Z",
          "shell.execute_reply": "2024-01-10T02:50:32.450201Z"
        },
        "trusted": true,
        "id": "T1IcIsNtcq1T"
      },
      "execution_count": null,
      "outputs": []
    },
    {
      "cell_type": "code",
      "source": [
        "#Fill missing values in Outlet_Size column with mode of Outlet_Size column for each Outlet_Type in Outlet_Size\n",
        "df_train.loc[df_train['Outlet_Type']=='Grocery Store','Outlet_Size']='Small'\n",
        "df_train.loc[df_train['Outlet_Type']=='Supermarket Type1','Outlet_Size']='Small'\n",
        "df_train.loc[df_train['Outlet_Type']=='Supermarket Type2','Outlet_Size']='Medium'\n",
        "df_train.loc[df_train['Outlet_Type']=='Supermarket Type3','Outlet_Size']='Medium'"
      ],
      "metadata": {
        "execution": {
          "iopub.status.busy": "2024-01-10T02:50:33.787051Z",
          "iopub.execute_input": "2024-01-10T02:50:33.787422Z",
          "iopub.status.idle": "2024-01-10T02:50:33.798861Z",
          "shell.execute_reply.started": "2024-01-10T02:50:33.787394Z",
          "shell.execute_reply": "2024-01-10T02:50:33.797509Z"
        },
        "trusted": true,
        "id": "qUt9SV_2cq1T"
      },
      "execution_count": null,
      "outputs": []
    },
    {
      "cell_type": "code",
      "source": [
        "#Check for missing values\n",
        "df_train.isnull().sum()"
      ],
      "metadata": {
        "execution": {
          "iopub.status.busy": "2024-01-10T02:50:35.046245Z",
          "iopub.execute_input": "2024-01-10T02:50:35.046899Z",
          "iopub.status.idle": "2024-01-10T02:50:35.056357Z",
          "shell.execute_reply.started": "2024-01-10T02:50:35.046866Z",
          "shell.execute_reply": "2024-01-10T02:50:35.05545Z"
        },
        "trusted": true,
        "id": "ZKswlkBGcq1T"
      },
      "execution_count": null,
      "outputs": []
    },
    {
      "cell_type": "markdown",
      "source": [
        "### Data Analysis"
      ],
      "metadata": {
        "id": "1E8i09-ncq1T"
      }
    },
    {
      "cell_type": "code",
      "source": [
        "#See descriptive statistics of numerical columns\n",
        "df_train.describe()"
      ],
      "metadata": {
        "execution": {
          "iopub.status.busy": "2024-01-10T02:50:37.199198Z",
          "iopub.execute_input": "2024-01-10T02:50:37.199556Z",
          "iopub.status.idle": "2024-01-10T02:50:37.227943Z",
          "shell.execute_reply.started": "2024-01-10T02:50:37.199528Z",
          "shell.execute_reply": "2024-01-10T02:50:37.2269Z"
        },
        "trusted": true,
        "id": "KdZ56jQIcq1T"
      },
      "execution_count": null,
      "outputs": []
    },
    {
      "cell_type": "markdown",
      "source": [
        "###  Visualization of Numerical Features"
      ],
      "metadata": {
        "id": "TfL59MBXcq1T"
      }
    },
    {
      "cell_type": "code",
      "source": [
        "#applying Seaborn's default aesthetic settings to your plots\n",
        "sns.set()"
      ],
      "metadata": {
        "execution": {
          "iopub.status.busy": "2024-01-10T02:50:48.78087Z",
          "iopub.execute_input": "2024-01-10T02:50:48.781238Z",
          "iopub.status.idle": "2024-01-10T02:50:48.78683Z",
          "shell.execute_reply.started": "2024-01-10T02:50:48.78121Z",
          "shell.execute_reply": "2024-01-10T02:50:48.785328Z"
        },
        "trusted": true,
        "id": "RYNQlJTHcq1U"
      },
      "execution_count": null,
      "outputs": []
    },
    {
      "cell_type": "code",
      "source": [
        "#Plot distplot for numerical columns\n",
        "cols = ['Item_Weight','Item_Visibility','Item_MRP','Item_Outlet_Sales']\n",
        "for col in cols:\n",
        "    plt.figure(figsize=(10,5))\n",
        "    sns.distplot(df_train[col])\n",
        "    plt.show()"
      ],
      "metadata": {
        "execution": {
          "iopub.status.busy": "2024-01-10T02:50:49.401089Z",
          "iopub.execute_input": "2024-01-10T02:50:49.401777Z",
          "iopub.status.idle": "2024-01-10T02:50:50.823136Z",
          "shell.execute_reply.started": "2024-01-10T02:50:49.401745Z",
          "shell.execute_reply": "2024-01-10T02:50:50.822064Z"
        },
        "trusted": true,
        "id": "TemTVKqAcq1U"
      },
      "execution_count": null,
      "outputs": []
    },
    {
      "cell_type": "code",
      "source": [
        "#Plot countplot for Outlet_Establishment_Year column\n",
        "plt.figure(figsize=(10,5))\n",
        "sns.countplot(x='Outlet_Establishment_Year', data=df_train)\n",
        "plt.show()"
      ],
      "metadata": {
        "execution": {
          "iopub.status.busy": "2024-01-10T02:50:50.8247Z",
          "iopub.execute_input": "2024-01-10T02:50:50.82503Z",
          "iopub.status.idle": "2024-01-10T02:50:51.076752Z",
          "shell.execute_reply.started": "2024-01-10T02:50:50.82499Z",
          "shell.execute_reply": "2024-01-10T02:50:51.075093Z"
        },
        "trusted": true,
        "id": "A_YOgoBGcq1U"
      },
      "execution_count": null,
      "outputs": []
    },
    {
      "cell_type": "markdown",
      "source": [
        "### Data Visualization of Categorical Features"
      ],
      "metadata": {
        "id": "kzuAs-Ewcq1U"
      }
    },
    {
      "cell_type": "code",
      "source": [
        "#Plot countplot for Item_Fat_Content column\n",
        "plt.figure(figsize=(10,5))\n",
        "sns.countplot(x= \"Item_Fat_Content\" , data=df_train)\n",
        "plt.show()"
      ],
      "metadata": {
        "execution": {
          "iopub.status.busy": "2024-01-10T02:50:54.771186Z",
          "iopub.execute_input": "2024-01-10T02:50:54.77152Z",
          "iopub.status.idle": "2024-01-10T02:50:54.975695Z",
          "shell.execute_reply.started": "2024-01-10T02:50:54.771494Z",
          "shell.execute_reply": "2024-01-10T02:50:54.974761Z"
        },
        "trusted": true,
        "id": "mhIwNPL7cq1U"
      },
      "execution_count": null,
      "outputs": []
    },
    {
      "cell_type": "code",
      "source": [
        "#Plot countplot for Item_Type column\n",
        "plt.figure(figsize=(30,10))\n",
        "sns.countplot(x= \"Item_Type\" , data=df_train)\n",
        "plt.show()"
      ],
      "metadata": {
        "execution": {
          "iopub.status.busy": "2024-01-10T02:50:54.977208Z",
          "iopub.execute_input": "2024-01-10T02:50:54.977481Z",
          "iopub.status.idle": "2024-01-10T02:50:55.398911Z",
          "shell.execute_reply.started": "2024-01-10T02:50:54.977456Z",
          "shell.execute_reply": "2024-01-10T02:50:55.398156Z"
        },
        "trusted": true,
        "id": "_q6jFgKbcq1U"
      },
      "execution_count": null,
      "outputs": []
    },
    {
      "cell_type": "code",
      "source": [
        "#Plot countplot for Outlet_Size column\n",
        "plt.figure(figsize=(10,5))\n",
        "sns.countplot(x= \"Outlet_Size\" , data=df_train)\n",
        "plt.show()"
      ],
      "metadata": {
        "execution": {
          "iopub.status.busy": "2024-01-10T02:50:55.400242Z",
          "iopub.execute_input": "2024-01-10T02:50:55.401406Z",
          "iopub.status.idle": "2024-01-10T02:50:55.565361Z",
          "shell.execute_reply.started": "2024-01-10T02:50:55.401357Z",
          "shell.execute_reply": "2024-01-10T02:50:55.564333Z"
        },
        "trusted": true,
        "id": "k5XejBxkcq1U"
      },
      "execution_count": null,
      "outputs": []
    },
    {
      "cell_type": "code",
      "source": [
        "#Plot countplot for Outlet_Location_Type column\n",
        "plt.figure(figsize=(10,5))\n",
        "sns.countplot(x= \"Outlet_Location_Type\" , data=df_train)\n",
        "plt.show()"
      ],
      "metadata": {
        "execution": {
          "iopub.status.busy": "2024-01-10T02:50:55.737044Z",
          "iopub.execute_input": "2024-01-10T02:50:55.739431Z",
          "iopub.status.idle": "2024-01-10T02:50:55.905905Z",
          "shell.execute_reply.started": "2024-01-10T02:50:55.739398Z",
          "shell.execute_reply": "2024-01-10T02:50:55.904827Z"
        },
        "trusted": true,
        "id": "QdhiXNnbcq1U"
      },
      "execution_count": null,
      "outputs": []
    },
    {
      "cell_type": "code",
      "source": [
        "#Plot countplot for Outlet_Type column\n",
        "plt.figure(figsize=(10,5))\n",
        "sns.countplot(x= \"Outlet_Type\" , data=df_train)\n",
        "plt.show()"
      ],
      "metadata": {
        "execution": {
          "iopub.status.busy": "2024-01-10T02:50:56.461219Z",
          "iopub.execute_input": "2024-01-10T02:50:56.461563Z",
          "iopub.status.idle": "2024-01-10T02:50:56.651246Z",
          "shell.execute_reply.started": "2024-01-10T02:50:56.461537Z",
          "shell.execute_reply": "2024-01-10T02:50:56.650154Z"
        },
        "trusted": true,
        "id": "1bQn191Ncq1U"
      },
      "execution_count": null,
      "outputs": []
    },
    {
      "cell_type": "markdown",
      "source": [
        "### Data Preprocessing"
      ],
      "metadata": {
        "id": "iTzUqKiKcq1U"
      }
    },
    {
      "cell_type": "code",
      "source": [
        "#see categories in Item_Fat_Content column\n",
        "df_train['Item_Fat_Content'].value_counts()"
      ],
      "metadata": {
        "execution": {
          "iopub.status.busy": "2024-01-10T02:50:58.759145Z",
          "iopub.execute_input": "2024-01-10T02:50:58.759512Z",
          "iopub.status.idle": "2024-01-10T02:50:58.766866Z",
          "shell.execute_reply.started": "2024-01-10T02:50:58.759473Z",
          "shell.execute_reply": "2024-01-10T02:50:58.765987Z"
        },
        "trusted": true,
        "id": "EqKdZon8cq1U"
      },
      "execution_count": null,
      "outputs": []
    },
    {
      "cell_type": "code",
      "source": [
        "#handle Item_Fat_Content column categories with replacement\n",
        "df_train['Item_Fat_Content'].replace({'LF':'Low Fat','reg':'Regular','low fat':'Low Fat'},inplace=True)\n"
      ],
      "metadata": {
        "execution": {
          "iopub.status.busy": "2024-01-10T02:50:59.787157Z",
          "iopub.execute_input": "2024-01-10T02:50:59.787496Z",
          "iopub.status.idle": "2024-01-10T02:50:59.796245Z",
          "shell.execute_reply.started": "2024-01-10T02:50:59.787468Z",
          "shell.execute_reply": "2024-01-10T02:50:59.794797Z"
        },
        "trusted": true,
        "id": "VixwJaj7cq1U"
      },
      "execution_count": null,
      "outputs": []
    },
    {
      "cell_type": "code",
      "source": [
        "#see categories in Item_Fat_Content column\n",
        "df_train['Item_Fat_Content'].value_counts()"
      ],
      "metadata": {
        "execution": {
          "iopub.status.busy": "2024-01-10T02:51:00.548238Z",
          "iopub.execute_input": "2024-01-10T02:51:00.548573Z",
          "iopub.status.idle": "2024-01-10T02:51:00.55634Z",
          "shell.execute_reply.started": "2024-01-10T02:51:00.548548Z",
          "shell.execute_reply": "2024-01-10T02:51:00.555537Z"
        },
        "trusted": true,
        "id": "9QK0fb56cq1U"
      },
      "execution_count": null,
      "outputs": []
    },
    {
      "cell_type": "markdown",
      "source": [
        "### Handle Categorical Features"
      ],
      "metadata": {
        "id": "bNbVpExCcq1U"
      }
    },
    {
      "cell_type": "code",
      "source": [
        "#Apply Label Encoding on categorical columns\n",
        "le = LabelEncoder()\n",
        "\n",
        "df_train['Item_Fat_Content'] = le.fit_transform(df_train['Item_Fat_Content'])\n",
        "\n",
        "df_train['Item_Type'] = le.fit_transform(df_train['Item_Type'])\n",
        "\n",
        "df_train['Outlet_Size'] = le.fit_transform(df_train['Outlet_Size'])\n",
        "\n",
        "df_train['Outlet_Location_Type'] = le.fit_transform(df_train['Outlet_Location_Type'])\n",
        "\n",
        "df_train['Outlet_Type'] = le.fit_transform(df_train['Outlet_Type'])\n",
        "\n",
        "df_train['Item_Identifier'] = le.fit_transform(df_train['Item_Identifier'])\n",
        "\n",
        "df_train['Outlet_Identifier'] = le.fit_transform(df_train['Outlet_Identifier'])"
      ],
      "metadata": {
        "execution": {
          "iopub.status.busy": "2024-01-10T02:51:03.110453Z",
          "iopub.execute_input": "2024-01-10T02:51:03.110824Z",
          "iopub.status.idle": "2024-01-10T02:51:03.134194Z",
          "shell.execute_reply.started": "2024-01-10T02:51:03.110794Z",
          "shell.execute_reply": "2024-01-10T02:51:03.133088Z"
        },
        "trusted": true,
        "id": "jRLedfPUcq1U"
      },
      "execution_count": null,
      "outputs": []
    },
    {
      "cell_type": "code",
      "source": [
        "df_train.head(10)"
      ],
      "metadata": {
        "execution": {
          "iopub.status.busy": "2024-01-10T02:51:03.955832Z",
          "iopub.execute_input": "2024-01-10T02:51:03.956805Z",
          "iopub.status.idle": "2024-01-10T02:51:03.975011Z",
          "shell.execute_reply.started": "2024-01-10T02:51:03.956674Z",
          "shell.execute_reply": "2024-01-10T02:51:03.973493Z"
        },
        "trusted": true,
        "id": "Evzi5qi4cq1U"
      },
      "execution_count": null,
      "outputs": []
    },
    {
      "cell_type": "code",
      "source": [
        "df_train.info()"
      ],
      "metadata": {
        "execution": {
          "iopub.status.busy": "2024-01-10T02:51:06.269017Z",
          "iopub.execute_input": "2024-01-10T02:51:06.269426Z",
          "iopub.status.idle": "2024-01-10T02:51:06.281761Z",
          "shell.execute_reply.started": "2024-01-10T02:51:06.269388Z",
          "shell.execute_reply": "2024-01-10T02:51:06.28048Z"
        },
        "trusted": true,
        "id": "_zr-K4ATcq1U"
      },
      "execution_count": null,
      "outputs": []
    },
    {
      "cell_type": "markdown",
      "source": [
        "### Data Scaling using StandardScaler"
      ],
      "metadata": {
        "id": "WckDE9UFcq1X"
      }
    },
    {
      "cell_type": "code",
      "source": [
        "sc = StandardScaler()\n",
        "\n",
        "df_train['Item_Weight'] = sc.fit_transform(df_train['Item_Weight'].values.reshape(-1,1))\n",
        "\n",
        "df_train['Item_Visibility'] = sc.fit_transform(df_train['Item_Visibility'].values.reshape(-1,1))\n",
        "\n",
        "df_train['Item_MRP'] = sc.fit_transform(df_train['Item_MRP'].values.reshape(-1,1))\n",
        "\n",
        "df_train['Item_Outlet_Sales'] = sc.fit_transform(df_train['Item_Outlet_Sales'].values.reshape(-1,1))\n",
        "\n",
        "df_train.head(10)"
      ],
      "metadata": {
        "execution": {
          "iopub.status.busy": "2024-01-10T02:51:14.142487Z",
          "iopub.execute_input": "2024-01-10T02:51:14.142843Z",
          "iopub.status.idle": "2024-01-10T02:51:14.166263Z",
          "shell.execute_reply.started": "2024-01-10T02:51:14.142815Z",
          "shell.execute_reply": "2024-01-10T02:51:14.165144Z"
        },
        "trusted": true,
        "id": "djJo7DFEcq1X"
      },
      "execution_count": null,
      "outputs": []
    },
    {
      "cell_type": "markdown",
      "source": [
        "### Seperate Features from Label"
      ],
      "metadata": {
        "id": "afKg1jdccq1X"
      }
    },
    {
      "cell_type": "code",
      "source": [
        "#sepertate features and target\n",
        "\n",
        "Features = df_train.drop(columns=['Item_Outlet_Sales'])\n",
        "\n",
        "Target = df_train['Item_Outlet_Sales']"
      ],
      "metadata": {
        "execution": {
          "iopub.status.busy": "2024-01-10T02:51:17.071293Z",
          "iopub.execute_input": "2024-01-10T02:51:17.071649Z",
          "iopub.status.idle": "2024-01-10T02:51:17.079564Z",
          "shell.execute_reply.started": "2024-01-10T02:51:17.071623Z",
          "shell.execute_reply": "2024-01-10T02:51:17.078374Z"
        },
        "trusted": true,
        "id": "COMO7abkcq1X"
      },
      "execution_count": null,
      "outputs": []
    },
    {
      "cell_type": "code",
      "source": [
        "Features"
      ],
      "metadata": {
        "execution": {
          "iopub.status.busy": "2024-01-10T02:51:18.623643Z",
          "iopub.execute_input": "2024-01-10T02:51:18.62403Z",
          "iopub.status.idle": "2024-01-10T02:51:18.643878Z",
          "shell.execute_reply.started": "2024-01-10T02:51:18.623998Z",
          "shell.execute_reply": "2024-01-10T02:51:18.642484Z"
        },
        "trusted": true,
        "id": "xqoqO2p1cq1X"
      },
      "execution_count": null,
      "outputs": []
    },
    {
      "cell_type": "code",
      "source": [
        "Target"
      ],
      "metadata": {
        "execution": {
          "iopub.status.busy": "2024-01-10T02:51:21.631282Z",
          "iopub.execute_input": "2024-01-10T02:51:21.631637Z",
          "iopub.status.idle": "2024-01-10T02:51:21.641654Z",
          "shell.execute_reply.started": "2024-01-10T02:51:21.631604Z",
          "shell.execute_reply": "2024-01-10T02:51:21.640838Z"
        },
        "trusted": true,
        "id": "pt4Yw8qicq1X"
      },
      "execution_count": null,
      "outputs": []
    },
    {
      "cell_type": "markdown",
      "source": [
        "### Split data into train and test sets"
      ],
      "metadata": {
        "id": "ZNZBkfGOcq1X"
      }
    },
    {
      "cell_type": "code",
      "source": [
        "#splittting data into training and testing data\n",
        "Features_train,Features_test,Target_train,Target_test = train_test_split(Features,Target,test_size=0.2,random_state=42)"
      ],
      "metadata": {
        "execution": {
          "iopub.status.busy": "2024-01-10T02:51:23.626682Z",
          "iopub.execute_input": "2024-01-10T02:51:23.627121Z",
          "iopub.status.idle": "2024-01-10T02:51:23.637194Z",
          "shell.execute_reply.started": "2024-01-10T02:51:23.627059Z",
          "shell.execute_reply": "2024-01-10T02:51:23.635886Z"
        },
        "trusted": true,
        "id": "SoWkZVqWcq1X"
      },
      "execution_count": null,
      "outputs": []
    },
    {
      "cell_type": "code",
      "source": [
        "#print shape of features and training and testing data of features\n",
        "print(\"Shape of Features:\",Features.shape)\n",
        "print(\"Shape of Features_train:\",Features_train.shape)\n",
        "print(\"Shape of Features_test:\",Features_test.shape)"
      ],
      "metadata": {
        "execution": {
          "iopub.status.busy": "2024-01-10T02:51:24.110458Z",
          "iopub.execute_input": "2024-01-10T02:51:24.110845Z",
          "iopub.status.idle": "2024-01-10T02:51:24.117564Z",
          "shell.execute_reply.started": "2024-01-10T02:51:24.110815Z",
          "shell.execute_reply": "2024-01-10T02:51:24.116211Z"
        },
        "trusted": true,
        "id": "z7cbkOjCcq1X"
      },
      "execution_count": null,
      "outputs": []
    },
    {
      "cell_type": "code",
      "source": [
        "#print shape of Target and training and testing data of Target\n",
        "print(\"Shape of Target:\",Target.shape)\n",
        "print(\"Shape of Target_train:\",Target_train.shape)\n",
        "print(\"Shape of Target_test:\",Target_test.shape)"
      ],
      "metadata": {
        "execution": {
          "iopub.status.busy": "2024-01-10T02:51:24.880646Z",
          "iopub.execute_input": "2024-01-10T02:51:24.881027Z",
          "iopub.status.idle": "2024-01-10T02:51:24.888308Z",
          "shell.execute_reply.started": "2024-01-10T02:51:24.880994Z",
          "shell.execute_reply": "2024-01-10T02:51:24.88669Z"
        },
        "trusted": true,
        "id": "-ubC_mi9cq1X"
      },
      "execution_count": null,
      "outputs": []
    },
    {
      "cell_type": "markdown",
      "source": [
        "### Building  XGBRegressor Model"
      ],
      "metadata": {
        "id": "2IFG7-SYcq1X"
      }
    },
    {
      "cell_type": "code",
      "source": [
        "#build model with XGBRegressor\n",
        "XGBRModel = XGBRegressor()\n",
        "\n",
        "#fit the model\n",
        "XGBRModel.fit(Features_train,Target_train)\n",
        "\n",
        "#predict the model\n",
        "Target_pred = XGBRModel.predict(Features_test)\n",
        "\n",
        "#calculate R-Squared\n",
        "r2_score = metrics.r2_score(Target_test,Target_pred)\n",
        "print(\"R-Squared:\",r2_score)\n",
        "\n",
        "#calculate Mean Absolute Error\n",
        "mae = metrics.mean_absolute_error(Target_test,Target_pred)\n",
        "print(\"Mean Absolute Error:\",mae)\n",
        "\n",
        "#calculate Mean Squared Error\n",
        "mse = metrics.mean_squared_error(Target_test,Target_pred)\n",
        "print(\"Mean Squared Error:\",mse)\n"
      ],
      "metadata": {
        "execution": {
          "iopub.status.busy": "2024-01-10T02:51:26.499197Z",
          "iopub.execute_input": "2024-01-10T02:51:26.499561Z",
          "iopub.status.idle": "2024-01-10T02:51:26.708891Z",
          "shell.execute_reply.started": "2024-01-10T02:51:26.499533Z",
          "shell.execute_reply": "2024-01-10T02:51:26.708171Z"
        },
        "trusted": true,
        "id": "GazyFzbbcq1X"
      },
      "execution_count": null,
      "outputs": []
    },
    {
      "cell_type": "markdown",
      "source": [
        "### Building  SVR Model"
      ],
      "metadata": {
        "id": "h42LBUK7cq1Y"
      }
    },
    {
      "cell_type": "code",
      "source": [
        "#build model with SVLRegressor\n",
        "model = SVR()\n",
        "\n",
        "#fit the model\n",
        "model.fit(Features_train,Target_train)\n",
        "\n",
        "#predict the model\n",
        "Target_pred = model.predict(Features_test)\n",
        "\n",
        "#calculate R-Squared\n",
        "r2_score = metrics.r2_score(Target_test,Target_pred)\n",
        "print(\"R-Squared:\",r2_score)\n",
        "\n",
        "#calculate Mean Absolute Error\n",
        "mae = metrics.mean_absolute_error(Target_test,Target_pred)\n",
        "print(\"Mean Absolute Error:\",mae)\n",
        "\n",
        "#calculate Mean Squared Error\n",
        "mse = metrics.mean_squared_error(Target_test,Target_pred)\n",
        "print(\"Mean Squared Error:\",mse)"
      ],
      "metadata": {
        "execution": {
          "iopub.status.busy": "2024-01-10T02:51:33.830908Z",
          "iopub.execute_input": "2024-01-10T02:51:33.831287Z",
          "iopub.status.idle": "2024-01-10T02:51:35.864607Z",
          "shell.execute_reply.started": "2024-01-10T02:51:33.831256Z",
          "shell.execute_reply": "2024-01-10T02:51:35.863766Z"
        },
        "trusted": true,
        "id": "8nJcg17dcq1Y"
      },
      "execution_count": null,
      "outputs": []
    },
    {
      "cell_type": "markdown",
      "source": [
        "### Building RandomForestRegressor Model"
      ],
      "metadata": {
        "id": "0TR8bfdWcq1Y"
      }
    },
    {
      "cell_type": "code",
      "source": [
        "#build model with RandomForestRegressor\n",
        "model = RandomForestRegressor()\n",
        "\n",
        "#fit the model\n",
        "model.fit(Features_train,Target_train)\n",
        "\n",
        "#predict the model\n",
        "Target_pred = model.predict(Features_test)\n",
        "\n",
        "#calculate R-Squared\n",
        "r2_score = metrics.r2_score(Target_test,Target_pred)\n",
        "print(\"R-Squared:\",r2_score)\n",
        "\n",
        "#calculate Mean Absolute Error\n",
        "mae = metrics.mean_absolute_error(Target_test,Target_pred)\n",
        "print(\"Mean Absolute Error:\",mae)\n",
        "\n",
        "#calculate Mean Squared Error\n",
        "mse = metrics.mean_squared_error(Target_test,Target_pred)\n",
        "print(\"Mean Squared Error:\",mse)\n"
      ],
      "metadata": {
        "execution": {
          "iopub.status.busy": "2024-01-10T02:51:37.815316Z",
          "iopub.execute_input": "2024-01-10T02:51:37.815964Z",
          "iopub.status.idle": "2024-01-10T02:51:40.923331Z",
          "shell.execute_reply.started": "2024-01-10T02:51:37.815921Z",
          "shell.execute_reply": "2024-01-10T02:51:40.922191Z"
        },
        "trusted": true,
        "id": "ATVlkTpNcq1Y"
      },
      "execution_count": null,
      "outputs": []
    },
    {
      "cell_type": "markdown",
      "source": [
        "### Build Lazy Predict Model"
      ],
      "metadata": {
        "id": "h6_F1Eg3d2jf"
      }
    },
    {
      "cell_type": "code",
      "source": [
        "from lazypredict.Supervised import LazyRegressor\n",
        "\n",
        "#Build Lazy Predict Model\n",
        "reg = LazyRegressor(verbose=0,ignore_warnings=False,custom_metric=None)\n",
        "models,predictions = reg.fit(Features_train,Features_test,Target_train,Target_test)\n",
        "\n",
        "#Print model performance\n",
        "print(models)"
      ],
      "metadata": {
        "execution": {
          "iopub.status.busy": "2024-01-10T02:52:16.42961Z",
          "iopub.execute_input": "2024-01-10T02:52:16.429995Z",
          "iopub.status.idle": "2024-01-10T02:52:54.745Z",
          "shell.execute_reply.started": "2024-01-10T02:52:16.429963Z",
          "shell.execute_reply": "2024-01-10T02:52:54.743298Z"
        },
        "trusted": true,
        "id": "PtxA6Lg5cq1Y"
      },
      "execution_count": null,
      "outputs": []
    },
    {
      "cell_type": "code",
      "source": [
        "#build model with GradientBoostingRegressor\n",
        "model = GradientBoostingRegressor()\n",
        "\n",
        "#fit the model\n",
        "model.fit(Features_train,Target_train)\n",
        "\n",
        "#predict the model\n",
        "Target_pred = model.predict(Features_test)\n",
        "\n",
        "#calculate R-Squared\n",
        "r2_score = metrics.r2_score(Target_test,Target_pred)\n",
        "print(\"R-Squared:\",r2_score)\n",
        "\n",
        "#calculate Mean Absolute Error\n",
        "mae = metrics.mean_absolute_error(Target_test,Target_pred)\n",
        "print(\"Mean Absolute Error:\",mae)\n",
        "\n",
        "#calculate Mean Squared Error\n",
        "mse = metrics.mean_squared_error(Target_test,Target_pred)\n",
        "print(\"Mean Squared Error:\",mse)"
      ],
      "metadata": {
        "execution": {
          "iopub.status.busy": "2024-01-10T02:53:50.885648Z",
          "iopub.execute_input": "2024-01-10T02:53:50.886003Z",
          "iopub.status.idle": "2024-01-10T02:53:51.967261Z",
          "shell.execute_reply.started": "2024-01-10T02:53:50.885976Z",
          "shell.execute_reply": "2024-01-10T02:53:51.966176Z"
        },
        "trusted": true,
        "id": "YeLeml1fcq1Y"
      },
      "execution_count": null,
      "outputs": []
    },
    {
      "cell_type": "code",
      "source": [
        "#build model with LGBMRegressor\n",
        "model = LGBMRegressor()\n",
        "\n",
        "#fit the model\n",
        "model.fit(Features_train,Target_train)\n",
        "\n",
        "#predict the model\n",
        "Target_pred = model.predict(Features_test)\n",
        "\n",
        "#calculate R-Squared\n",
        "r2_score = metrics.r2_score(Target_test,Target_pred)\n",
        "print(\"R-Squared:\",r2_score)\n",
        "\n",
        "#calculate Mean Absolute Error\n",
        "mae = metrics.mean_absolute_error(Target_test,Target_pred)\n",
        "print(\"Mean Absolute Error:\",mae)\n",
        "\n",
        "#calculate Mean Squared Error\n",
        "mse = metrics.mean_squared_error(Target_test,Target_pred)\n",
        "print(\"Mean Squared Error:\",mse)\n"
      ],
      "metadata": {
        "execution": {
          "iopub.status.busy": "2024-01-10T02:53:56.746839Z",
          "iopub.execute_input": "2024-01-10T02:53:56.747224Z",
          "iopub.status.idle": "2024-01-10T02:53:57.858596Z",
          "shell.execute_reply.started": "2024-01-10T02:53:56.747193Z",
          "shell.execute_reply": "2024-01-10T02:53:57.857687Z"
        },
        "trusted": true,
        "id": "ck3f1RCFcq1Y"
      },
      "execution_count": null,
      "outputs": []
    },
    {
      "cell_type": "code",
      "source": [
        "#Save the model\n",
        "from joblib import dump\n",
        "dump(XGBRModel, 'XGBRegressor.joblib')"
      ],
      "metadata": {
        "execution": {
          "iopub.status.busy": "2024-01-10T02:54:01.884855Z",
          "iopub.execute_input": "2024-01-10T02:54:01.885929Z",
          "iopub.status.idle": "2024-01-10T02:54:01.896573Z",
          "shell.execute_reply.started": "2024-01-10T02:54:01.885874Z",
          "shell.execute_reply": "2024-01-10T02:54:01.895354Z"
        },
        "trusted": true,
        "id": "_Nf0KR2Xcq1Y"
      },
      "execution_count": null,
      "outputs": []
    },
    {
      "cell_type": "markdown",
      "source": [
        "### Make a predictive System"
      ],
      "metadata": {
        "id": "UNZK7nrVcq1Y"
      }
    },
    {
      "cell_type": "code",
      "source": [
        "#Read test data\n",
        "df_test = pd.read_csv('/data/Test.csv')\n",
        "df_test.head(10)\n"
      ],
      "metadata": {
        "execution": {
          "iopub.status.busy": "2024-01-10T02:54:04.513449Z",
          "iopub.execute_input": "2024-01-10T02:54:04.513807Z",
          "iopub.status.idle": "2024-01-10T02:54:04.550728Z",
          "shell.execute_reply.started": "2024-01-10T02:54:04.513774Z",
          "shell.execute_reply": "2024-01-10T02:54:04.549171Z"
        },
        "trusted": true,
        "id": "PncqW5y5cq1Y"
      },
      "execution_count": null,
      "outputs": []
    },
    {
      "cell_type": "code",
      "source": [
        "df_test.shape"
      ],
      "metadata": {
        "execution": {
          "iopub.status.busy": "2024-01-10T02:54:06.337999Z",
          "iopub.execute_input": "2024-01-10T02:54:06.338375Z",
          "iopub.status.idle": "2024-01-10T02:54:06.344851Z",
          "shell.execute_reply.started": "2024-01-10T02:54:06.338347Z",
          "shell.execute_reply": "2024-01-10T02:54:06.344176Z"
        },
        "trusted": true,
        "id": "nVdFV97Ocq1Y"
      },
      "execution_count": null,
      "outputs": []
    },
    {
      "cell_type": "markdown",
      "source": [
        "### Processing test data"
      ],
      "metadata": {
        "id": "JKOF48nYcq1Y"
      }
    },
    {
      "cell_type": "code",
      "source": [
        "df_test.info()"
      ],
      "metadata": {
        "execution": {
          "iopub.status.busy": "2024-01-10T02:54:07.257208Z",
          "iopub.execute_input": "2024-01-10T02:54:07.257817Z",
          "iopub.status.idle": "2024-01-10T02:54:07.270887Z",
          "shell.execute_reply.started": "2024-01-10T02:54:07.25778Z",
          "shell.execute_reply": "2024-01-10T02:54:07.270168Z"
        },
        "trusted": true,
        "id": "zbI5u1Imcq1Y"
      },
      "execution_count": null,
      "outputs": []
    },
    {
      "cell_type": "code",
      "source": [
        "#see categories in Item_Fat_Content column\n",
        "df_test['Item_Fat_Content'].value_counts()"
      ],
      "metadata": {
        "execution": {
          "iopub.status.busy": "2024-01-10T02:54:09.323029Z",
          "iopub.execute_input": "2024-01-10T02:54:09.323373Z",
          "iopub.status.idle": "2024-01-10T02:54:09.33518Z",
          "shell.execute_reply.started": "2024-01-10T02:54:09.323348Z",
          "shell.execute_reply": "2024-01-10T02:54:09.334148Z"
        },
        "trusted": true,
        "id": "6IHrt80Ccq1Y"
      },
      "execution_count": null,
      "outputs": []
    },
    {
      "cell_type": "code",
      "source": [
        "#handle Item_Fat_Content column categories with replacement\n",
        "df_test['Item_Fat_Content'].replace({'LF':'Low Fat','reg':'Regular','low fat':'Low Fat'},inplace=True)"
      ],
      "metadata": {
        "execution": {
          "iopub.status.busy": "2024-01-10T02:54:09.980914Z",
          "iopub.execute_input": "2024-01-10T02:54:09.981264Z",
          "iopub.status.idle": "2024-01-10T02:54:09.990573Z",
          "shell.execute_reply.started": "2024-01-10T02:54:09.981237Z",
          "shell.execute_reply": "2024-01-10T02:54:09.989148Z"
        },
        "trusted": true,
        "id": "RMbWuzyncq1Y"
      },
      "execution_count": null,
      "outputs": []
    },
    {
      "cell_type": "code",
      "source": [
        "#see categories in Item_Fat_Content column\n",
        "df_test['Item_Fat_Content'].value_counts()"
      ],
      "metadata": {
        "execution": {
          "iopub.status.busy": "2024-01-10T02:54:10.54031Z",
          "iopub.execute_input": "2024-01-10T02:54:10.54118Z",
          "iopub.status.idle": "2024-01-10T02:54:10.550151Z",
          "shell.execute_reply.started": "2024-01-10T02:54:10.541138Z",
          "shell.execute_reply": "2024-01-10T02:54:10.548969Z"
        },
        "trusted": true,
        "id": "IrTqlPRvcq1Y"
      },
      "execution_count": null,
      "outputs": []
    },
    {
      "cell_type": "code",
      "source": [
        "#Apply Label Encoding on categorical columns\n",
        "le = LabelEncoder()\n",
        "\n",
        "df_test['Item_Fat_Content'] = le.fit_transform(df_test['Item_Fat_Content'])\n",
        "\n",
        "df_test['Item_Type'] = le.fit_transform(df_test['Item_Type'])\n",
        "\n",
        "df_test['Outlet_Size'] = le.fit_transform(df_test['Outlet_Size'])\n",
        "\n",
        "df_test['Outlet_Location_Type'] = le.fit_transform(df_test['Outlet_Location_Type'])\n",
        "\n",
        "df_test['Outlet_Type'] = le.fit_transform(df_test['Outlet_Type'])\n",
        "\n",
        "df_test['Item_Identifier'] = le.fit_transform(df_test['Item_Identifier'])\n",
        "\n",
        "df_test['Outlet_Identifier'] = le.fit_transform(df_test['Outlet_Identifier'])"
      ],
      "metadata": {
        "execution": {
          "iopub.status.busy": "2024-01-10T02:54:12.054253Z",
          "iopub.execute_input": "2024-01-10T02:54:12.054587Z",
          "iopub.status.idle": "2024-01-10T02:54:12.074801Z",
          "shell.execute_reply.started": "2024-01-10T02:54:12.054563Z",
          "shell.execute_reply": "2024-01-10T02:54:12.073265Z"
        },
        "trusted": true,
        "id": "Hdu43myGcq1Y"
      },
      "execution_count": null,
      "outputs": []
    },
    {
      "cell_type": "code",
      "source": [
        "df_test.info()"
      ],
      "metadata": {
        "execution": {
          "iopub.status.busy": "2024-01-10T02:54:14.119892Z",
          "iopub.execute_input": "2024-01-10T02:54:14.120304Z",
          "iopub.status.idle": "2024-01-10T02:54:14.136478Z",
          "shell.execute_reply.started": "2024-01-10T02:54:14.120272Z",
          "shell.execute_reply": "2024-01-10T02:54:14.13477Z"
        },
        "trusted": true,
        "id": "J9ugGfQwcq1Y"
      },
      "execution_count": null,
      "outputs": []
    },
    {
      "cell_type": "code",
      "source": [
        "sc = StandardScaler()\n",
        "\n",
        "df_test['Item_Weight'] = sc.fit_transform(df_test['Item_Weight'].values.reshape(-1,1))\n",
        "\n",
        "df_test['Item_Visibility'] = sc.fit_transform(df_test['Item_Visibility'].values.reshape(-1,1))\n",
        "\n",
        "df_test['Item_MRP'] = sc.fit_transform(df_test['Item_MRP'].values.reshape(-1,1))\n",
        "\n",
        "df_test.head(10)"
      ],
      "metadata": {
        "execution": {
          "iopub.status.busy": "2024-01-10T02:54:15.936891Z",
          "iopub.execute_input": "2024-01-10T02:54:15.93725Z",
          "iopub.status.idle": "2024-01-10T02:54:15.956674Z",
          "shell.execute_reply.started": "2024-01-10T02:54:15.937222Z",
          "shell.execute_reply": "2024-01-10T02:54:15.955661Z"
        },
        "trusted": true,
        "id": "Vnvw47h6cq1Y"
      },
      "execution_count": null,
      "outputs": []
    },
    {
      "cell_type": "code",
      "source": [
        "#load trained model\n",
        "from joblib import load\n",
        "\n",
        "model = load('XGBRegressor.joblib')\n",
        "\n",
        "#predict the model\n",
        "Target_pred = model.predict(df_test)\n"
      ],
      "metadata": {
        "execution": {
          "iopub.status.busy": "2024-01-10T02:54:18.080648Z",
          "iopub.execute_input": "2024-01-10T02:54:18.080989Z",
          "iopub.status.idle": "2024-01-10T02:54:18.105475Z",
          "shell.execute_reply.started": "2024-01-10T02:54:18.080961Z",
          "shell.execute_reply": "2024-01-10T02:54:18.104343Z"
        },
        "trusted": true,
        "id": "LVedw_iQcq1Y"
      },
      "execution_count": null,
      "outputs": []
    },
    {
      "cell_type": "code",
      "source": [
        "#print each Item_Identifier with its predicted value and put the result in dataframe\n",
        "df = pd.DataFrame({'Item_Identifier':df_test['Item_Identifier'],'Item_Outlet_Sales':Target_pred})\n",
        "df\n"
      ],
      "metadata": {
        "execution": {
          "iopub.status.busy": "2024-01-10T02:54:20.054003Z",
          "iopub.execute_input": "2024-01-10T02:54:20.054372Z",
          "iopub.status.idle": "2024-01-10T02:54:20.070192Z",
          "shell.execute_reply.started": "2024-01-10T02:54:20.054344Z",
          "shell.execute_reply": "2024-01-10T02:54:20.068799Z"
        },
        "trusted": true,
        "id": "qNjvRt6ecq1Y"
      },
      "execution_count": null,
      "outputs": []
    }
  ]
}